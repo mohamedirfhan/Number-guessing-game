{
 "cells": [
  {
   "cell_type": "markdown",
   "id": "63980710-0ec5-450b-bd0a-7413ef410c8f",
   "metadata": {},
   "source": [
    "#guess a number game"
   ]
  },
  {
   "cell_type": "code",
   "execution_count": 3,
   "id": "ced8b9f7-06c5-407c-8f69-7a864fd93432",
   "metadata": {},
   "outputs": [
    {
     "name": "stdin",
     "output_type": "stream",
     "text": [
      "Enter your guess number 90\n"
     ]
    },
    {
     "name": "stdout",
     "output_type": "stream",
     "text": [
      "contrat!, your guess is right\n"
     ]
    }
   ],
   "source": [
    "secret_number=90\n",
    "\n",
    "guess_number=int(input(\"Enter your guess number\"))\n",
    "\n",
    "if secret_number==guess_number :\n",
    "    print(\"contrat!, your guess is right\")\n",
    "else:\n",
    "    print(\"Sorry, your guess is wrong\")\n",
    "\n"
   ]
  },
  {
   "cell_type": "markdown",
   "id": "c8048008-9035-4803-a50d-4cfc3307e1eb",
   "metadata": {},
   "source": [
    "#guess a number game using for loop"
   ]
  },
  {
   "cell_type": "code",
   "execution_count": null,
   "id": "5a8d4cd4-1d56-430f-9c06-a5a2f81a4ac3",
   "metadata": {},
   "outputs": [],
   "source": [
    "secret_number=90\n",
    "for i in range(7):\n",
    "    guess_number=int(input(\"Enter your guess number\"))\n",
    "\n",
    "    if secret_number==guess_number :\n",
    "        print(\"contrat!, your guess is right\")\n",
    "        break\n",
    "    else:\n",
    "        print(\"Sorry, your guess is wrong\")\n"
   ]
  },
  {
   "cell_type": "markdown",
   "id": "3c3c5a09-d120-4b7a-be0c-b3ed1d4bd7e9",
   "metadata": {},
   "source": [
    "#guess a number game using while loop"
   ]
  },
  {
   "cell_type": "code",
   "execution_count": 4,
   "id": "cd0ad48c-e2c5-43b6-a4e5-c84b03be16ac",
   "metadata": {},
   "outputs": [
    {
     "data": {
      "text/plain": [
       "32"
      ]
     },
     "execution_count": 4,
     "metadata": {},
     "output_type": "execute_result"
    }
   ],
   "source": [
    "import random\n",
    "random.randint(1,100)"
   ]
  },
  {
   "cell_type": "code",
   "execution_count": 5,
   "id": "cd819cd2-844e-415c-99f6-62375369ae45",
   "metadata": {},
   "outputs": [
    {
     "name": "stdin",
     "output_type": "stream",
     "text": [
      "Enter your guess number:  90\n"
     ]
    },
    {
     "name": "stdout",
     "output_type": "stream",
     "text": [
      "Contrats!, your guess is right\n"
     ]
    }
   ],
   "source": [
    "secret_number=90\n",
    "while True:\n",
    "    guess_number=int(input(\"Enter your guess number: \"))\n",
    "    if secret_number==guess_number:\n",
    "        print(\"Contrats!, your guess is right\")\n",
    "        break\n",
    "    else:\n",
    "        print(\"Sorry!, your guess is wrong\")\n",
    "        "
   ]
  },
  {
   "cell_type": "markdown",
   "id": "85e19346-9e4a-4fd3-8d0e-90bf178d005e",
   "metadata": {},
   "source": [
    "#GUESSING NUMBER WITH RANDOM SECRECT NUMBER"
   ]
  },
  {
   "cell_type": "code",
   "execution_count": 5,
   "id": "87e04242-d41a-4665-93d2-666e8264dd38",
   "metadata": {},
   "outputs": [
    {
     "name": "stdout",
     "output_type": "stream",
     "text": [
      "Welcome to the number guessing game!!\n",
      "Guess your number!!\n"
     ]
    },
    {
     "name": "stdin",
     "output_type": "stream",
     "text": [
      "Enter your Guessing :  60\n"
     ]
    },
    {
     "name": "stdout",
     "output_type": "stream",
     "text": [
      "Your guessing number is greater than secret number\n"
     ]
    },
    {
     "name": "stdin",
     "output_type": "stream",
     "text": [
      "Enter your Guessing :  50\n"
     ]
    },
    {
     "name": "stdout",
     "output_type": "stream",
     "text": [
      "Your guessing number is greater than secret number\n"
     ]
    },
    {
     "name": "stdin",
     "output_type": "stream",
     "text": [
      "Enter your Guessing :  40\n"
     ]
    },
    {
     "name": "stdout",
     "output_type": "stream",
     "text": [
      "Your guessing number is greater than secret number\n"
     ]
    },
    {
     "name": "stdin",
     "output_type": "stream",
     "text": [
      "Enter your Guessing :  20\n"
     ]
    },
    {
     "name": "stdout",
     "output_type": "stream",
     "text": [
      "Your guessing number is smaller than secret number\n"
     ]
    },
    {
     "name": "stdin",
     "output_type": "stream",
     "text": [
      "Enter your Guessing :  30\n"
     ]
    },
    {
     "name": "stdout",
     "output_type": "stream",
     "text": [
      "Your guessing number is greater than secret number\n"
     ]
    },
    {
     "name": "stdin",
     "output_type": "stream",
     "text": [
      "Enter your Guessing :  25\n"
     ]
    },
    {
     "name": "stdout",
     "output_type": "stream",
     "text": [
      "Congrats, Your guessing number is Right!!\n",
      "Your guessed the secret number 25 in 6 attempts\n"
     ]
    }
   ],
   "source": [
    "import random\n",
    "print(\"Welcome to the number guessing game!!\")\n",
    "print(\"Guess your number!!\")\n",
    "secret_number=random.randint(1,100)\n",
    "for i in range(1,8):\n",
    "    user_input=int(input(\"Enter your Guessing : \"))\n",
    "    if user_input <0 or user_input>100:\n",
    "        print(\"Invalid input!!, pls enter valid number\")\n",
    "    elif user_input<secret_number:\n",
    "        print(\"Your guessing number is smaller than secret number\")\n",
    "    elif user_input>secret_number:\n",
    "        print(\"Your guessing number is greater than secret number\")\n",
    "    else:\n",
    "        print(\"Congrats, Your guessing number is Right!!\")\n",
    "        break\n",
    "if user_input==secret_number:\n",
    "    print(f\"Your guessed the secret number {secret_number} in {i} attempts\")\n",
    "else:\n",
    "    print(f\"Sorry!!,All your trails are exceeded, Try again!!\")"
   ]
  },
  {
   "cell_type": "markdown",
   "id": "65aac7e5-43ae-4e74-b86e-973dbeaa70de",
   "metadata": {},
   "source": [
    "#HANDLING INVALID CHARAECTERS OR VALUES"
   ]
  },
  {
   "cell_type": "code",
   "execution_count": 7,
   "id": "04728f0e-3c31-4a53-b82d-a089d57a0708",
   "metadata": {},
   "outputs": [
    {
     "name": "stdout",
     "output_type": "stream",
     "text": [
      "Welcome to the number guessing game!!\n",
      "Guess your number!!\n"
     ]
    },
    {
     "name": "stdin",
     "output_type": "stream",
     "text": [
      "Enter your Guessing :  -1\n"
     ]
    },
    {
     "name": "stdout",
     "output_type": "stream",
     "text": [
      "Invalid input!!, pls enter valid number\n"
     ]
    },
    {
     "name": "stdin",
     "output_type": "stream",
     "text": [
      "Enter your Guessing :  50\n"
     ]
    },
    {
     "name": "stdout",
     "output_type": "stream",
     "text": [
      "Your guessing number is smaller than secret number\n"
     ]
    },
    {
     "name": "stdin",
     "output_type": "stream",
     "text": [
      "Enter your Guessing :  60\n"
     ]
    },
    {
     "name": "stdout",
     "output_type": "stream",
     "text": [
      "Your guessing number is smaller than secret number\n"
     ]
    },
    {
     "name": "stdin",
     "output_type": "stream",
     "text": [
      "Enter your Guessing :  70\n"
     ]
    },
    {
     "name": "stdout",
     "output_type": "stream",
     "text": [
      "Your guessing number is smaller than secret number\n"
     ]
    },
    {
     "name": "stdin",
     "output_type": "stream",
     "text": [
      "Enter your Guessing :  80\n"
     ]
    },
    {
     "name": "stdout",
     "output_type": "stream",
     "text": [
      "Your guessing number is smaller than secret number\n"
     ]
    },
    {
     "name": "stdin",
     "output_type": "stream",
     "text": [
      "Enter your Guessing :  90\n"
     ]
    },
    {
     "name": "stdout",
     "output_type": "stream",
     "text": [
      "Your guessing number is greater than secret number\n"
     ]
    },
    {
     "name": "stdin",
     "output_type": "stream",
     "text": [
      "Enter your Guessing :  85\n"
     ]
    },
    {
     "name": "stdout",
     "output_type": "stream",
     "text": [
      "Your guessing number is smaller than secret number\n",
      "Sorry!!,All your trails are exceeded, Try again!!\n"
     ]
    }
   ],
   "source": [
    "import random\n",
    "print(\"Welcome to the number guessing game!!\")\n",
    "print(\"Guess your number!!\")\n",
    "secret_number=random.randint(1,100)\n",
    "for i in range(1,8):\n",
    "    try:\n",
    "       user_input=int(input(\"Enter your Guessing : \"))\n",
    "       if user_input <0 or user_input>100:\n",
    "           print(\"Invalid input!!, pls enter valid number\")\n",
    "       elif user_input<secret_number:\n",
    "           print(\"Your guessing number is smaller than secret number\")\n",
    "       elif user_input>secret_number:\n",
    "           print(\"Your guessing number is greater than secret number\")\n",
    "       else:\n",
    "           print(\"Congrats, Your guessing number is Right!!\")\n",
    "           break\n",
    "    except ValueError:\n",
    "        print(\"Invalid character, Pls enter a valid number\")\n",
    "if user_input==secret_number:\n",
    "    print(f\"Your guessed the secret number {secret_number} in {i} attempts\")\n",
    "else:\n",
    "    print(f\"Sorry!!,All your trails are exceeded, Try again!!\")"
   ]
  },
  {
   "cell_type": "markdown",
   "id": "30bce199-c92b-42d1-980b-bd1d4a7f1fbe",
   "metadata": {},
   "source": [
    "#GUESSING A NUMBER GAME WITH USER DEFINED FUNCTION"
   ]
  },
  {
   "cell_type": "code",
   "execution_count": 10,
   "id": "1dbdb9d4-18c4-455a-be7e-a3ad22d60eea",
   "metadata": {},
   "outputs": [
    {
     "name": "stdout",
     "output_type": "stream",
     "text": [
      "Welcome to the number guessing game!!\n",
      "Guess your number!!\n"
     ]
    },
    {
     "name": "stdin",
     "output_type": "stream",
     "text": [
      "Enter your Guessing :  80\n"
     ]
    },
    {
     "name": "stdout",
     "output_type": "stream",
     "text": [
      "Your guessing number is greater than secret number\n"
     ]
    },
    {
     "name": "stdin",
     "output_type": "stream",
     "text": [
      "Enter your Guessing :  60\n"
     ]
    },
    {
     "name": "stdout",
     "output_type": "stream",
     "text": [
      "Your guessing number is greater than secret number\n"
     ]
    },
    {
     "name": "stdin",
     "output_type": "stream",
     "text": [
      "Enter your Guessing :  40\n"
     ]
    },
    {
     "name": "stdout",
     "output_type": "stream",
     "text": [
      "Your guessing number is greater than secret number\n"
     ]
    },
    {
     "name": "stdin",
     "output_type": "stream",
     "text": [
      "Enter your Guessing :  20\n"
     ]
    },
    {
     "name": "stdout",
     "output_type": "stream",
     "text": [
      "Your guessing number is smaller than secret number\n"
     ]
    },
    {
     "name": "stdin",
     "output_type": "stream",
     "text": [
      "Enter your Guessing :  30\n"
     ]
    },
    {
     "name": "stdout",
     "output_type": "stream",
     "text": [
      "Your guessing number is smaller than secret number\n"
     ]
    },
    {
     "name": "stdin",
     "output_type": "stream",
     "text": [
      "Enter your Guessing :  35\n"
     ]
    },
    {
     "name": "stdout",
     "output_type": "stream",
     "text": [
      "Your guessing number is greater than secret number\n"
     ]
    },
    {
     "name": "stdin",
     "output_type": "stream",
     "text": [
      "Enter your Guessing :  32\n"
     ]
    },
    {
     "name": "stdout",
     "output_type": "stream",
     "text": [
      "Your guessing number is smaller than secret number\n",
      "Sorry!!,All your trails are exceeded, Try again!!\n"
     ]
    }
   ],
   "source": [
    "def number_guessing_game():\n",
    "    import random\n",
    "    print(\"Welcome to the number guessing game!!\")\n",
    "    print(\"Guess your number!!\")\n",
    "    secret_number=random.randint(1,100)\n",
    "    for i in range(1,8):\n",
    "       try:\n",
    "          user_input=int(input(\"Enter your Guessing : \"))\n",
    "          if user_input <0 or user_input>100:\n",
    "              print(\"Invalid input!!, pls enter valid number\")\n",
    "          elif user_input<secret_number:\n",
    "              print(\"Your guessing number is smaller than secret number\")\n",
    "          elif user_input>secret_number:\n",
    "              print(\"Your guessing number is greater than secret number\")\n",
    "          else:\n",
    "              print(\"Congrats, Your guessing number is Right!!\")\n",
    "              break\n",
    "       except ValueError:\n",
    "           print(\"Invalid character, Pls enter a valid number\")\n",
    "    if user_input==secret_number:\n",
    "        print(f\"Your guessed the secret number {secret_number} in {i} attempts\")\n",
    "    else:\n",
    "        print(f\"Sorry!!,All your trails are exceeded, Try again!!\")\n",
    "number_guessing_game()\n",
    "    "
   ]
  }
 ],
 "metadata": {
  "kernelspec": {
   "display_name": "Python 3 (ipykernel)",
   "language": "python",
   "name": "python3"
  },
  "language_info": {
   "codemirror_mode": {
    "name": "ipython",
    "version": 3
   },
   "file_extension": ".py",
   "mimetype": "text/x-python",
   "name": "python",
   "nbconvert_exporter": "python",
   "pygments_lexer": "ipython3",
   "version": "3.10.11"
  }
 },
 "nbformat": 4,
 "nbformat_minor": 5
}

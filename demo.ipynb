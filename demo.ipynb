{
 "cells": [
  {
   "cell_type": "markdown",
   "id": "63980710-0ec5-450b-bd0a-7413ef410c8f",
   "metadata": {},
   "source": [
    "#guess a number game"
   ]
  },
  {
   "cell_type": "code",
   "execution_count": 1,
   "id": "ced8b9f7-06c5-407c-8f69-7a864fd93432",
   "metadata": {},
   "outputs": [
    {
     "name": "stdin",
     "output_type": "stream",
     "text": [
      "Enter your guess number 90\n"
     ]
    },
    {
     "name": "stdout",
     "output_type": "stream",
     "text": [
      "contrat!, your guess is right\n"
     ]
    }
   ],
   "source": [
    "secret_number=90\n",
    "\n",
    "guess_number=int(input(\"Enter your guess number\"))\n",
    "\n",
    "if secret_number==guess_number :\n",
    "    print(\"contrat!, your guess is right\")\n",
    "else:\n",
    "    print(\"Sorry, your guess is wrong\")\n",
    "\n"
   ]
  },
  {
   "cell_type": "markdown",
   "id": "c8048008-9035-4803-a50d-4cfc3307e1eb",
   "metadata": {},
   "source": [
    "#guess a number game using for loop"
   ]
  },
  {
   "cell_type": "code",
   "execution_count": null,
   "id": "5a8d4cd4-1d56-430f-9c06-a5a2f81a4ac3",
   "metadata": {},
   "outputs": [],
   "source": [
    "secret_number=90\n",
    "for i in range(7):\n",
    "    guess_number=int(input(\"Enter your guess number\"))\n",
    "\n",
    "    if secret_number==guess_number :\n",
    "        print(\"contrat!, your guess is right\")\n",
    "        break\n",
    "    else:\n",
    "        print(\"Sorry, your guess is wrong\")\n"
   ]
  },
  {
   "cell_type": "markdown",
   "id": "3c3c5a09-d120-4b7a-be0c-b3ed1d4bd7e9",
   "metadata": {},
   "source": [
    "#guess a number game using while loop"
   ]
  },
  {
   "cell_type": "code",
   "execution_count": 4,
   "id": "cd0ad48c-e2c5-43b6-a4e5-c84b03be16ac",
   "metadata": {},
   "outputs": [
    {
     "data": {
      "text/plain": [
       "32"
      ]
     },
     "execution_count": 4,
     "metadata": {},
     "output_type": "execute_result"
    }
   ],
   "source": [
    "import random\n",
    "random.randint(1,100)"
   ]
  },
  {
   "cell_type": "code",
   "execution_count": 5,
   "id": "cd819cd2-844e-415c-99f6-62375369ae45",
   "metadata": {},
   "outputs": [
    {
     "name": "stdin",
     "output_type": "stream",
     "text": [
      "Enter your guess number:  90\n"
     ]
    },
    {
     "name": "stdout",
     "output_type": "stream",
     "text": [
      "Contrats!, your guess is right\n"
     ]
    }
   ],
   "source": [
    "secret_number=90\n",
    "while True:\n",
    "    guess_number=int(input(\"Enter your guess number: \"))\n",
    "    if secret_number==guess_number:\n",
    "        print(\"Contrats!, your guess is right\")\n",
    "        break\n",
    "    else:\n",
    "        print(\"Sorry!, your guess is wrong\")\n",
    "        "
   ]
  },
  {
   "cell_type": "code",
   "execution_count": 7,
   "id": "87e04242-d41a-4665-93d2-666e8264dd38",
   "metadata": {},
   "outputs": [
    {
     "name": "stdout",
     "output_type": "stream",
     "text": [
      "Welcome to the number guessing game!!\n",
      "Guess your number!!\n"
     ]
    },
    {
     "name": "stdin",
     "output_type": "stream",
     "text": [
      "Enter your Guessing :  55\n"
     ]
    },
    {
     "name": "stdout",
     "output_type": "stream",
     "text": [
      "Your guessing number is greater than secret number\n"
     ]
    },
    {
     "name": "stdin",
     "output_type": "stream",
     "text": [
      "Enter your Guessing :  30\n"
     ]
    },
    {
     "name": "stdout",
     "output_type": "stream",
     "text": [
      "Your guessing number is greater than secret number\n"
     ]
    },
    {
     "name": "stdin",
     "output_type": "stream",
     "text": [
      "Enter your Guessing :  20\n"
     ]
    },
    {
     "name": "stdout",
     "output_type": "stream",
     "text": [
      "Your guessing number is smaller than secret number\n"
     ]
    },
    {
     "name": "stdin",
     "output_type": "stream",
     "text": [
      "Enter your Guessing :  25\n"
     ]
    },
    {
     "name": "stdout",
     "output_type": "stream",
     "text": [
      "Your guessing number is greater than secret number\n"
     ]
    },
    {
     "name": "stdin",
     "output_type": "stream",
     "text": [
      "Enter your Guessing :  23\n"
     ]
    },
    {
     "name": "stdout",
     "output_type": "stream",
     "text": [
      "Congrats, Your guessing number is Right!!\n",
      "Your guessed the secret number 23 in 5 attempts\n"
     ]
    }
   ],
   "source": [
    "import random\n",
    "print(\"Welcome to the number guessing game!!\")\n",
    "print(\"Guess your number!!\")\n",
    "secret_number=random.randint(1,100)\n",
    "for i in range(1,8):\n",
    "    user_input=int(input(\"Enter your Guessing : \"))\n",
    "    if user_input <0 or user_input>100:\n",
    "        print(\"Invalid input!!, pls enter valid number\")\n",
    "    elif user_input<secret_number:\n",
    "        print(\"Your guessing number is smaller than secret number\")\n",
    "    elif user_input>secret_number:\n",
    "        print(\"Your guessing number is greater than secret number\")\n",
    "    else:\n",
    "        print(\"Congrats, Your guessing number is Right!!\")\n",
    "        break\n",
    "if user_input==secret_number:\n",
    "    print(f\"Your guessed the secret number {secret_number} in {i} attempts\")\n",
    "else:\n",
    "    print(f\"Sorry!!,All your trails are exceeded, Try again!!\")"
   ]
  },
  {
   "cell_type": "code",
   "execution_count": null,
   "id": "265ce05b-6e32-49af-af1a-c9301b81f08f",
   "metadata": {},
   "outputs": [],
   "source": []
  }
 ],
 "metadata": {
  "kernelspec": {
   "display_name": "Python 3 (ipykernel)",
   "language": "python",
   "name": "python3"
  },
  "language_info": {
   "codemirror_mode": {
    "name": "ipython",
    "version": 3
   },
   "file_extension": ".py",
   "mimetype": "text/x-python",
   "name": "python",
   "nbconvert_exporter": "python",
   "pygments_lexer": "ipython3",
   "version": "3.10.11"
  }
 },
 "nbformat": 4,
 "nbformat_minor": 5
}
